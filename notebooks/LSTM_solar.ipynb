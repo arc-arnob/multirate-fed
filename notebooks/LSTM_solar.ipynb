{
 "cells": [
  {
   "cell_type": "code",
   "execution_count": 186,
   "metadata": {},
   "outputs": [],
   "source": [
    "import os\n",
    "import pandas as pd\n",
    "import numpy as np\n",
    "import matplotlib.pyplot as plt\n",
    "\n",
    "import torch\n",
    "import torch.nn as nn\n",
    "import torch.optim as optim\n",
    "from torch.utils.data import DataLoader, TensorDataset\n",
    "from sklearn.preprocessing import LabelEncoder"
   ]
  },
  {
   "cell_type": "markdown",
   "metadata": {},
   "source": [
    "### Data Pre Processing"
   ]
  },
  {
   "cell_type": "markdown",
   "metadata": {},
   "source": [
    "#### Load Data"
   ]
  },
  {
   "cell_type": "code",
   "execution_count": 187,
   "metadata": {},
   "outputs": [],
   "source": [
    "df = pd.read_csv(\"../processed_ds/solar/solar_fl/solar_fl.csv\")"
   ]
  },
  {
   "cell_type": "code",
   "execution_count": 188,
   "metadata": {},
   "outputs": [
    {
     "name": "stdout",
     "output_type": "stream",
     "text": [
      "Total Train Samples: 504576\n",
      "Total Test Samples: 126144\n"
     ]
    }
   ],
   "source": [
    "import os\n",
    "import pandas as pd\n",
    "from sklearn.model_selection import train_test_split\n",
    "\n",
    "# Get the list of directories (sites)\n",
    "files = os.listdir('../processed_ds/solar/')\n",
    "files = [f for f in files if os.path.isdir('../processed_ds/solar/' + f)]\n",
    "files.sort()  # Sort the site directories\n",
    "\n",
    "# Initialize empty lists for train and test data\n",
    "train_dfs = []\n",
    "test_dfs = []\n",
    "\n",
    "# Iterate over the site directories\n",
    "for f in files:\n",
    "    site_files = os.listdir(f'../processed_ds/solar/{f}')\n",
    "    site_files = [sf for sf in site_files if sf.endswith('.csv')]\n",
    "    site_files.sort()\n",
    "\n",
    "    # Process each file in the site\n",
    "    for sf in site_files:\n",
    "        file_path = f'../processed_ds/solar/{f}/{sf}'\n",
    "        df_site = pd.read_csv(file_path)\n",
    "\n",
    "        # Add a site identifier column\n",
    "        df_site['solar'] = str(f.split('_')[1])\n",
    "\n",
    "        # Perform 80-20 train-test split on time order\n",
    "        train_size = int(0.8 * len(df_site))\n",
    "        df_train = df_site.iloc[:train_size]  # First 80% as training data\n",
    "        df_test = df_site.iloc[train_size:]  # Remaining 20% as test data \n",
    "\n",
    "        # Append to lists\n",
    "        train_dfs.append(df_train)\n",
    "        test_dfs.append(df_test)\n",
    "\n",
    "# Concatenate all train and test data separately\n",
    "train_df = pd.concat(train_dfs, ignore_index=True)\n",
    "test_df = pd.concat(test_dfs, ignore_index=True)\n",
    "\n",
    "# Save if needed\n",
    "train_df.to_csv('../processed_ds/solar/train_data.csv', index=False)\n",
    "test_df.to_csv('../processed_ds/solar/test_data.csv', index=False)\n",
    "\n",
    "# Print summary\n",
    "print(f\"Total Train Samples: {len(train_df)}\")\n",
    "print(f\"Total Test Samples: {len(test_df)}\")"
   ]
  },
  {
   "cell_type": "code",
   "execution_count": 138,
   "metadata": {},
   "outputs": [],
   "source": [
    "train_df = pd.read_csv('../processed_ds/solar/train_data.csv')\n",
    "test_df = pd.read_csv('../processed_ds/solar/test_data.csv')\n"
   ]
  },
  {
   "cell_type": "code",
   "execution_count": 189,
   "metadata": {},
   "outputs": [],
   "source": [
    "from sklearn.preprocessing import LabelEncoder\n",
    "\n",
    "# Initialize the encoder\n",
    "label_encoder = LabelEncoder()\n",
    "\n",
    "# Apply encoding\n",
    "train_df['solar'] = label_encoder.fit_transform(train_df['solar'])\n",
    "test_df['solar'] = label_encoder.transform(test_df['solar'])"
   ]
  },
  {
   "cell_type": "code",
   "execution_count": 190,
   "metadata": {},
   "outputs": [],
   "source": [
    "num_cols = train_df.select_dtypes(include=['float64', 'int64']).columns.tolist()\n",
    "num_cols.remove('solar')  # Exclude categorical column\n",
    "\n",
    "train_df[num_cols] = (train_df[num_cols] - train_df[num_cols].mean()) / (train_df[num_cols].std() + 1e-8)\n",
    "test_df[num_cols] = (test_df[num_cols] - test_df[num_cols].mean()) / (test_df[num_cols].std() + 1e-8)\n",
    "\n",
    "# from sklearn.preprocessing import MinMaxScaler\n",
    "\n",
    "# scaler = MinMaxScaler()\n",
    "# df = scaler.fit_transform(df)\n",
    "\n",
    "# df = pd.DataFrame(df)"
   ]
  },
  {
   "cell_type": "code",
   "execution_count": 191,
   "metadata": {},
   "outputs": [],
   "source": [
    "train_df = train_df.drop(columns=['date'])\n",
    "test_df = test_df.drop(columns=['date'])"
   ]
  },
  {
   "cell_type": "code",
   "execution_count": 192,
   "metadata": {},
   "outputs": [
    {
     "data": {
      "text/html": [
       "<div>\n",
       "<style scoped>\n",
       "    .dataframe tbody tr th:only-of-type {\n",
       "        vertical-align: middle;\n",
       "    }\n",
       "\n",
       "    .dataframe tbody tr th {\n",
       "        vertical-align: top;\n",
       "    }\n",
       "\n",
       "    .dataframe thead th {\n",
       "        text-align: right;\n",
       "    }\n",
       "</style>\n",
       "<table border=\"1\" class=\"dataframe\">\n",
       "  <thead>\n",
       "    <tr style=\"text-align: right;\">\n",
       "      <th></th>\n",
       "      <th>loc-1</th>\n",
       "      <th>loc-2</th>\n",
       "      <th>loc-3</th>\n",
       "      <th>loc-4</th>\n",
       "      <th>loc-5</th>\n",
       "      <th>loc-6</th>\n",
       "      <th>loc-7</th>\n",
       "      <th>loc-8</th>\n",
       "      <th>loc-9</th>\n",
       "      <th>OT</th>\n",
       "      <th>solar</th>\n",
       "    </tr>\n",
       "  </thead>\n",
       "  <tbody>\n",
       "    <tr>\n",
       "      <th>0</th>\n",
       "      <td>-0.548539</td>\n",
       "      <td>-0.620866</td>\n",
       "      <td>-0.432267</td>\n",
       "      <td>-0.4832</td>\n",
       "      <td>-0.612569</td>\n",
       "      <td>-0.548046</td>\n",
       "      <td>-0.619053</td>\n",
       "      <td>-0.595619</td>\n",
       "      <td>-0.551157</td>\n",
       "      <td>-0.50242</td>\n",
       "      <td>0</td>\n",
       "    </tr>\n",
       "    <tr>\n",
       "      <th>1</th>\n",
       "      <td>-0.548539</td>\n",
       "      <td>-0.620866</td>\n",
       "      <td>-0.432267</td>\n",
       "      <td>-0.4832</td>\n",
       "      <td>-0.612569</td>\n",
       "      <td>-0.548046</td>\n",
       "      <td>-0.619053</td>\n",
       "      <td>-0.595619</td>\n",
       "      <td>-0.551157</td>\n",
       "      <td>-0.50242</td>\n",
       "      <td>0</td>\n",
       "    </tr>\n",
       "    <tr>\n",
       "      <th>2</th>\n",
       "      <td>-0.548539</td>\n",
       "      <td>-0.620866</td>\n",
       "      <td>-0.432267</td>\n",
       "      <td>-0.4832</td>\n",
       "      <td>-0.612569</td>\n",
       "      <td>-0.548046</td>\n",
       "      <td>-0.619053</td>\n",
       "      <td>-0.595619</td>\n",
       "      <td>-0.551157</td>\n",
       "      <td>-0.50242</td>\n",
       "      <td>0</td>\n",
       "    </tr>\n",
       "    <tr>\n",
       "      <th>3</th>\n",
       "      <td>-0.548539</td>\n",
       "      <td>-0.620866</td>\n",
       "      <td>-0.432267</td>\n",
       "      <td>-0.4832</td>\n",
       "      <td>-0.612569</td>\n",
       "      <td>-0.548046</td>\n",
       "      <td>-0.619053</td>\n",
       "      <td>-0.595619</td>\n",
       "      <td>-0.551157</td>\n",
       "      <td>-0.50242</td>\n",
       "      <td>0</td>\n",
       "    </tr>\n",
       "    <tr>\n",
       "      <th>4</th>\n",
       "      <td>-0.548539</td>\n",
       "      <td>-0.620866</td>\n",
       "      <td>-0.432267</td>\n",
       "      <td>-0.4832</td>\n",
       "      <td>-0.612569</td>\n",
       "      <td>-0.548046</td>\n",
       "      <td>-0.619053</td>\n",
       "      <td>-0.595619</td>\n",
       "      <td>-0.551157</td>\n",
       "      <td>-0.50242</td>\n",
       "      <td>0</td>\n",
       "    </tr>\n",
       "  </tbody>\n",
       "</table>\n",
       "</div>"
      ],
      "text/plain": [
       "      loc-1     loc-2     loc-3   loc-4     loc-5     loc-6     loc-7  \\\n",
       "0 -0.548539 -0.620866 -0.432267 -0.4832 -0.612569 -0.548046 -0.619053   \n",
       "1 -0.548539 -0.620866 -0.432267 -0.4832 -0.612569 -0.548046 -0.619053   \n",
       "2 -0.548539 -0.620866 -0.432267 -0.4832 -0.612569 -0.548046 -0.619053   \n",
       "3 -0.548539 -0.620866 -0.432267 -0.4832 -0.612569 -0.548046 -0.619053   \n",
       "4 -0.548539 -0.620866 -0.432267 -0.4832 -0.612569 -0.548046 -0.619053   \n",
       "\n",
       "      loc-8     loc-9       OT  solar  \n",
       "0 -0.595619 -0.551157 -0.50242      0  \n",
       "1 -0.595619 -0.551157 -0.50242      0  \n",
       "2 -0.595619 -0.551157 -0.50242      0  \n",
       "3 -0.595619 -0.551157 -0.50242      0  \n",
       "4 -0.595619 -0.551157 -0.50242      0  "
      ]
     },
     "execution_count": 192,
     "metadata": {},
     "output_type": "execute_result"
    }
   ],
   "source": [
    "train_df.head()"
   ]
  },
  {
   "cell_type": "code",
   "execution_count": 193,
   "metadata": {},
   "outputs": [],
   "source": [
    "def df_to_X_y(df, target_col=10, window_size=32, horizon=16):\n",
    "    df_as_np = df.to_numpy()\n",
    "    X, y = [], []\n",
    "\n",
    "    for i in range(len(df_as_np) - window_size - horizon + 1):  # Adjust to avoid out-of-bounds\n",
    "        # Select past 'window_size' rows as features\n",
    "        X.append(df_as_np[i:i + window_size])\n",
    "\n",
    "        # Select the next 'horizon' future values for target column\n",
    "        y.append(df_as_np[i + window_size:i + window_size + horizon, target_col])  \n",
    "\n",
    "    return np.array(X), np.array(y)\n"
   ]
  },
  {
   "cell_type": "code",
   "execution_count": 194,
   "metadata": {},
   "outputs": [],
   "source": [
    "# Process Train Data\n",
    "X_train, y_train = df_to_X_y(train_df, target_col=9)  # Use correct target column\n",
    "\n",
    "# Process Test Data\n",
    "X_test, y_test = df_to_X_y(test_df, target_col=9)  # Same column index"
   ]
  },
  {
   "cell_type": "markdown",
   "metadata": {},
   "source": [
    "#### Rough Tests"
   ]
  },
  {
   "cell_type": "code",
   "execution_count": 148,
   "metadata": {},
   "outputs": [
    {
     "data": {
      "text/plain": [
       "(504529, 32, 11)"
      ]
     },
     "execution_count": 148,
     "metadata": {},
     "output_type": "execute_result"
    }
   ],
   "source": [
    "X_train.shape"
   ]
  },
  {
   "cell_type": "markdown",
   "metadata": {},
   "source": [
    "#### Train Test Split"
   ]
  },
  {
   "cell_type": "markdown",
   "metadata": {},
   "source": [
    "### Model Preparation"
   ]
  },
  {
   "cell_type": "code",
   "execution_count": 195,
   "metadata": {},
   "outputs": [],
   "source": [
    "class LSTMModel(nn.Module):\n",
    "    def __init__(self,\n",
    "                 num_tasks,\n",
    "                 num_features,\n",
    "                 time_window,\n",
    "                 output_window,\n",
    "                 num_labels,\n",
    "                 num_layers=2,\n",
    "                 hidden_size=16):\n",
    "        super(LSTMModel, self).__init__()\n",
    "\n",
    "        self.output_window = output_window\n",
    "        self.num_labels = num_labels\n",
    "        self.dual = False\n",
    "\n",
    "        self.intermediary = False\n",
    "\n",
    "        self.lstm = nn.LSTM(num_features,\n",
    "                            hidden_size,\n",
    "                            num_layers=num_layers,\n",
    "                            batch_first=True,\n",
    "                            dropout=0.2)\n",
    "        self.fc = nn.Linear(hidden_size, num_labels * output_window)\n",
    "\n",
    "    def forward(self, x):\n",
    "        B, T, D = x.shape  # Fix: Remove x[0], should be x\n",
    "        # h0 = torch.zeros(2, B, 16).to(x.device)\n",
    "        # c0 = torch.zeros(2, B, 16).to(x.device)\n",
    "        x_, _ = self.lstm(x)\n",
    "        # Select the last time step's hidden state (most recent information)\n",
    "        last_hidden = x_[:, -1, :]  # Shape: (B, hidden_size)\n",
    "\n",
    "        # Fully connected layer\n",
    "        x_ = self.fc(last_hidden)  # Shape: (B, num_labels * output_window)\n",
    "\n",
    "        # Reshape to (B, output_window, num_labels)\n",
    "        x_ = x_.reshape(B, self.output_window, self.num_labels)\n",
    "\n",
    "        return x_"
   ]
  },
  {
   "cell_type": "code",
   "execution_count": 196,
   "metadata": {},
   "outputs": [
    {
     "data": {
      "text/plain": [
       "LSTMModel(\n",
       "  (lstm): LSTM(11, 16, num_layers=2, batch_first=True, dropout=0.2)\n",
       "  (fc): Linear(in_features=16, out_features=16, bias=True)\n",
       ")"
      ]
     },
     "execution_count": 196,
     "metadata": {},
     "output_type": "execute_result"
    }
   ],
   "source": [
    "# Hyperparameters\n",
    "SEQ_LEN = 32  # Input window length\n",
    "HORIZON = 16  # Prediction horizon\n",
    "NUM_FEATURES = 11 # Input features (e.g., PM2.5, NO2)\n",
    "NUM_LABELS = 1  # Predict same number of labels\n",
    "\n",
    "# Instantiate model\n",
    "model = LSTMModel(\n",
    "    num_tasks=1,  # Only 1 task\n",
    "    num_features=NUM_FEATURES,\n",
    "    time_window=SEQ_LEN,\n",
    "    output_window=HORIZON,\n",
    "    num_labels=NUM_LABELS,\n",
    "    num_layers=2,\n",
    "    hidden_size=16 # Increased hidden size\n",
    ")\n",
    "model.to(\"cuda\")"
   ]
  },
  {
   "cell_type": "code",
   "execution_count": 210,
   "metadata": {},
   "outputs": [],
   "source": [
    "def train_model(model, train_loader, num_epochs=20, lr=0.01):\n",
    "    criterion = nn.MSELoss()\n",
    "    optimizer = optim.Adam(model.parameters(), lr=lr)\n",
    "    device = \"cuda\"\n",
    "\n",
    "    for epoch in range(num_epochs):\n",
    "        print(\"EPOCH: \", epoch)\n",
    "        model.train(True)\n",
    "        running_loss = 0.0\n",
    "        \n",
    "        for batch_index, batch in enumerate(train_loader):\n",
    "            x_batch, y_batch = batch[0].to(device), batch[1].to(device)\n",
    "            y_batch = y_batch.unsqueeze(-1)\n",
    "\n",
    "            output = model(x_batch)\n",
    "\n",
    "            loss = criterion(output, y_batch)\n",
    "            running_loss += loss.item()\n",
    "\n",
    "            optimizer.zero_grad()\n",
    "            loss.backward()\n",
    "            optimizer.step()\n",
    "\n",
    "        print(f\"Epoch {epoch+1}, Loss: {running_loss / len(train_loader):.4f}\")"
   ]
  },
  {
   "cell_type": "code",
   "execution_count": 211,
   "metadata": {},
   "outputs": [],
   "source": [
    "# Convert to PyTorch tensors\n",
    "train_data = TensorDataset(torch.from_numpy(X_train).float(), torch.from_numpy(y_train).float())\n",
    "test_data = TensorDataset(torch.from_numpy(X_test).float(), torch.from_numpy(y_test).float())\n",
    "\n",
    "# Create DataLoaders\n",
    "batch_size = 16\n",
    "train_loader = DataLoader(train_data, shuffle=True, batch_size=batch_size, drop_last=True)\n",
    "test_loader = DataLoader(test_data, shuffle=False, batch_size=batch_size, drop_last=True)"
   ]
  },
  {
   "cell_type": "code",
   "execution_count": 215,
   "metadata": {},
   "outputs": [
    {
     "name": "stdout",
     "output_type": "stream",
     "text": [
      "tensor([[-0.5024, -0.5024, -0.5024, -0.5024, -0.5024, -0.5024, -0.5024, -0.5024,\n",
      "         -0.5024, -0.5024, -0.5024, -0.5024, -0.5024, -0.5024, -0.5024, -0.5024],\n",
      "        [-0.3131, -0.2981, -0.2782, -0.2732, -0.2632, -0.2832, -0.2832, -0.2931,\n",
      "         -0.2832, -0.2832, -0.2931, -0.3081, -0.3131, -0.2533, -0.2782, -0.2084],\n",
      "        [-0.5024, -0.5024, -0.5024, -0.5024, -0.5024, -0.5024, -0.5024, -0.5024,\n",
      "         -0.5024, -0.5024, -0.5024, -0.5024, -0.5024, -0.5024, -0.5024, -0.5024],\n",
      "        [ 0.6039,  0.6687,  0.5690,  0.6537,  0.7036,  0.5541,  0.5989,  0.7883,\n",
      "          0.7384,  0.7833,  0.7982,  0.8780,  0.8730,  0.7933,  0.7384,  0.7085],\n",
      "        [-0.5024, -0.5024, -0.5024, -0.5024, -0.5024, -0.5024, -0.5024, -0.5024,\n",
      "         -0.5024, -0.5024, -0.5024, -0.5024, -0.5024, -0.5024, -0.5024, -0.5024],\n",
      "        [-0.5024, -0.5024, -0.5024, -0.5024, -0.5024, -0.5024, -0.5024, -0.5024,\n",
      "         -0.5024, -0.5024, -0.5024, -0.5024, -0.5024, -0.5024, -0.5024, -0.5024],\n",
      "        [-0.5024, -0.5024, -0.5024, -0.5024, -0.5024, -0.5024, -0.5024, -0.5024,\n",
      "         -0.5024, -0.5024, -0.5024, -0.5024, -0.5024, -0.5024, -0.5024, -0.5024],\n",
      "        [-0.5024, -0.5024, -0.5024, -0.5024, -0.5024, -0.5024, -0.5024, -0.5024,\n",
      "         -0.5024, -0.5024, -0.5024, -0.5024, -0.5024, -0.5024, -0.5024, -0.5024],\n",
      "        [-0.5024, -0.5024, -0.5024, -0.5024, -0.5024, -0.5024, -0.5024, -0.5024,\n",
      "         -0.5024, -0.5024, -0.5024, -0.5024, -0.5024, -0.5024, -0.5024, -0.5024],\n",
      "        [-0.3928, -0.3081, -0.2234, -0.1536, -0.0788, -0.0141,  0.0408,  0.0756,\n",
      "          0.0856,  0.1105,  0.1404,  0.1803,  0.2152,  0.2301,  0.2351,  0.2202],\n",
      "        [-0.5024, -0.5024, -0.5024, -0.5024, -0.5024, -0.5024, -0.5024, -0.5024,\n",
      "         -0.5024, -0.5024, -0.5024, -0.5024, -0.5024, -0.5024, -0.5024, -0.5024],\n",
      "        [-0.5024, -0.5024, -0.5024, -0.5024, -0.5024, -0.5024, -0.5024, -0.5024,\n",
      "         -0.5024, -0.5024, -0.5024, -0.5024, -0.5024, -0.5024, -0.5024, -0.5024],\n",
      "        [-0.5024, -0.5024, -0.5024, -0.5024, -0.5024, -0.5024, -0.5024, -0.5024,\n",
      "         -0.5024, -0.5024, -0.5024, -0.5024, -0.5024, -0.5024, -0.5024, -0.5024],\n",
      "        [-0.5024, -0.5024, -0.5024, -0.5024, -0.5024, -0.5024, -0.5024, -0.5024,\n",
      "         -0.5024, -0.5024, -0.5024, -0.5024, -0.5024, -0.5024, -0.5024, -0.5024],\n",
      "        [-0.5024, -0.5024, -0.5024, -0.5024, -0.5024, -0.5024, -0.5024, -0.5024,\n",
      "         -0.5024, -0.5024, -0.5024, -0.5024, -0.5024, -0.5024, -0.5024, -0.5024],\n",
      "        [-0.3031, -0.3878, -0.4675, -0.2632, -0.1735, -0.1984, -0.2084, -0.2134,\n",
      "         -0.2483, -0.2981, -0.3081, -0.3330, -0.3579, -0.3828, -0.4028, -0.5024]])\n"
     ]
    }
   ],
   "source": [
    "for _, batch in enumerate(train_loader):\n",
    "    x_batch, y_batch = batch[0].to('cpu'), batch[1].to('cpu')\n",
    "    print(y_batch)\n",
    "    break"
   ]
  },
  {
   "cell_type": "markdown",
   "metadata": {},
   "source": [
    "### Model Training"
   ]
  },
  {
   "cell_type": "code",
   "execution_count": 213,
   "metadata": {},
   "outputs": [
    {
     "name": "stdout",
     "output_type": "stream",
     "text": [
      "EPOCH:  0\n",
      "Epoch 1, Loss: 0.0743\n",
      "EPOCH:  1\n",
      "Epoch 2, Loss: 0.0604\n",
      "EPOCH:  2\n",
      "Epoch 3, Loss: 0.0572\n",
      "EPOCH:  3\n",
      "Epoch 4, Loss: 0.0555\n",
      "EPOCH:  4\n",
      "Epoch 5, Loss: 0.0541\n",
      "EPOCH:  5\n",
      "Epoch 6, Loss: 0.0528\n",
      "EPOCH:  6\n",
      "Epoch 7, Loss: 0.0518\n",
      "EPOCH:  7\n",
      "Epoch 8, Loss: 0.0509\n",
      "EPOCH:  8\n",
      "Epoch 9, Loss: 0.0504\n",
      "EPOCH:  9\n",
      "Epoch 10, Loss: 0.0497\n",
      "EPOCH:  10\n",
      "Epoch 11, Loss: 0.0492\n",
      "EPOCH:  11\n",
      "Epoch 12, Loss: 0.0487\n",
      "EPOCH:  12\n",
      "Epoch 13, Loss: 0.0482\n",
      "EPOCH:  13\n",
      "Epoch 14, Loss: 0.0479\n",
      "EPOCH:  14\n",
      "Epoch 15, Loss: 0.0475\n",
      "EPOCH:  15\n"
     ]
    },
    {
     "ename": "KeyboardInterrupt",
     "evalue": "",
     "output_type": "error",
     "traceback": [
      "\u001b[0;31m---------------------------------------------------------------------------\u001b[0m",
      "\u001b[0;31mKeyboardInterrupt\u001b[0m                         Traceback (most recent call last)",
      "Cell \u001b[0;32mIn[213], line 1\u001b[0m\n\u001b[0;32m----> 1\u001b[0m \u001b[43mtrain_model\u001b[49m\u001b[43m(\u001b[49m\u001b[43mmodel\u001b[49m\u001b[43m,\u001b[49m\u001b[43m \u001b[49m\u001b[43mtrain_loader\u001b[49m\u001b[43m,\u001b[49m\u001b[43m \u001b[49m\u001b[43mnum_epochs\u001b[49m\u001b[38;5;241;43m=\u001b[39;49m\u001b[38;5;241;43m30\u001b[39;49m\u001b[43m,\u001b[49m\u001b[43m \u001b[49m\u001b[43mlr\u001b[49m\u001b[38;5;241;43m=\u001b[39;49m\u001b[38;5;241;43m1e-3\u001b[39;49m\u001b[43m)\u001b[49m\n",
      "Cell \u001b[0;32mIn[210], line 21\u001b[0m, in \u001b[0;36mtrain_model\u001b[0;34m(model, train_loader, num_epochs, lr)\u001b[0m\n\u001b[1;32m     18\u001b[0m     running_loss \u001b[38;5;241m+\u001b[39m\u001b[38;5;241m=\u001b[39m loss\u001b[38;5;241m.\u001b[39mitem()\n\u001b[1;32m     20\u001b[0m     optimizer\u001b[38;5;241m.\u001b[39mzero_grad()\n\u001b[0;32m---> 21\u001b[0m     \u001b[43mloss\u001b[49m\u001b[38;5;241;43m.\u001b[39;49m\u001b[43mbackward\u001b[49m\u001b[43m(\u001b[49m\u001b[43m)\u001b[49m\n\u001b[1;32m     22\u001b[0m     optimizer\u001b[38;5;241m.\u001b[39mstep()\n\u001b[1;32m     24\u001b[0m \u001b[38;5;28mprint\u001b[39m(\u001b[38;5;124mf\u001b[39m\u001b[38;5;124m\"\u001b[39m\u001b[38;5;124mEpoch \u001b[39m\u001b[38;5;132;01m{\u001b[39;00mepoch\u001b[38;5;241m+\u001b[39m\u001b[38;5;241m1\u001b[39m\u001b[38;5;132;01m}\u001b[39;00m\u001b[38;5;124m, Loss: \u001b[39m\u001b[38;5;132;01m{\u001b[39;00mrunning_loss\u001b[38;5;250m \u001b[39m\u001b[38;5;241m/\u001b[39m\u001b[38;5;250m \u001b[39m\u001b[38;5;28mlen\u001b[39m(train_loader)\u001b[38;5;132;01m:\u001b[39;00m\u001b[38;5;124m.4f\u001b[39m\u001b[38;5;132;01m}\u001b[39;00m\u001b[38;5;124m\"\u001b[39m)\n",
      "File \u001b[0;32m~/Documents/Arnob/centralized-baseline/centralized/lib/python3.8/site-packages/torch/_tensor.py:521\u001b[0m, in \u001b[0;36mTensor.backward\u001b[0;34m(self, gradient, retain_graph, create_graph, inputs)\u001b[0m\n\u001b[1;32m    511\u001b[0m \u001b[38;5;28;01mif\u001b[39;00m has_torch_function_unary(\u001b[38;5;28mself\u001b[39m):\n\u001b[1;32m    512\u001b[0m     \u001b[38;5;28;01mreturn\u001b[39;00m handle_torch_function(\n\u001b[1;32m    513\u001b[0m         Tensor\u001b[38;5;241m.\u001b[39mbackward,\n\u001b[1;32m    514\u001b[0m         (\u001b[38;5;28mself\u001b[39m,),\n\u001b[0;32m   (...)\u001b[0m\n\u001b[1;32m    519\u001b[0m         inputs\u001b[38;5;241m=\u001b[39minputs,\n\u001b[1;32m    520\u001b[0m     )\n\u001b[0;32m--> 521\u001b[0m \u001b[43mtorch\u001b[49m\u001b[38;5;241;43m.\u001b[39;49m\u001b[43mautograd\u001b[49m\u001b[38;5;241;43m.\u001b[39;49m\u001b[43mbackward\u001b[49m\u001b[43m(\u001b[49m\n\u001b[1;32m    522\u001b[0m \u001b[43m    \u001b[49m\u001b[38;5;28;43mself\u001b[39;49m\u001b[43m,\u001b[49m\u001b[43m \u001b[49m\u001b[43mgradient\u001b[49m\u001b[43m,\u001b[49m\u001b[43m \u001b[49m\u001b[43mretain_graph\u001b[49m\u001b[43m,\u001b[49m\u001b[43m \u001b[49m\u001b[43mcreate_graph\u001b[49m\u001b[43m,\u001b[49m\u001b[43m \u001b[49m\u001b[43minputs\u001b[49m\u001b[38;5;241;43m=\u001b[39;49m\u001b[43minputs\u001b[49m\n\u001b[1;32m    523\u001b[0m \u001b[43m\u001b[49m\u001b[43m)\u001b[49m\n",
      "File \u001b[0;32m~/Documents/Arnob/centralized-baseline/centralized/lib/python3.8/site-packages/torch/autograd/__init__.py:289\u001b[0m, in \u001b[0;36mbackward\u001b[0;34m(tensors, grad_tensors, retain_graph, create_graph, grad_variables, inputs)\u001b[0m\n\u001b[1;32m    284\u001b[0m     retain_graph \u001b[38;5;241m=\u001b[39m create_graph\n\u001b[1;32m    286\u001b[0m \u001b[38;5;66;03m# The reason we repeat the same comment below is that\u001b[39;00m\n\u001b[1;32m    287\u001b[0m \u001b[38;5;66;03m# some Python versions print out the first line of a multi-line function\u001b[39;00m\n\u001b[1;32m    288\u001b[0m \u001b[38;5;66;03m# calls in the traceback and some print out the last line\u001b[39;00m\n\u001b[0;32m--> 289\u001b[0m \u001b[43m_engine_run_backward\u001b[49m\u001b[43m(\u001b[49m\n\u001b[1;32m    290\u001b[0m \u001b[43m    \u001b[49m\u001b[43mtensors\u001b[49m\u001b[43m,\u001b[49m\n\u001b[1;32m    291\u001b[0m \u001b[43m    \u001b[49m\u001b[43mgrad_tensors_\u001b[49m\u001b[43m,\u001b[49m\n\u001b[1;32m    292\u001b[0m \u001b[43m    \u001b[49m\u001b[43mretain_graph\u001b[49m\u001b[43m,\u001b[49m\n\u001b[1;32m    293\u001b[0m \u001b[43m    \u001b[49m\u001b[43mcreate_graph\u001b[49m\u001b[43m,\u001b[49m\n\u001b[1;32m    294\u001b[0m \u001b[43m    \u001b[49m\u001b[43minputs\u001b[49m\u001b[43m,\u001b[49m\n\u001b[1;32m    295\u001b[0m \u001b[43m    \u001b[49m\u001b[43mallow_unreachable\u001b[49m\u001b[38;5;241;43m=\u001b[39;49m\u001b[38;5;28;43;01mTrue\u001b[39;49;00m\u001b[43m,\u001b[49m\n\u001b[1;32m    296\u001b[0m \u001b[43m    \u001b[49m\u001b[43maccumulate_grad\u001b[49m\u001b[38;5;241;43m=\u001b[39;49m\u001b[38;5;28;43;01mTrue\u001b[39;49;00m\u001b[43m,\u001b[49m\n\u001b[1;32m    297\u001b[0m \u001b[43m\u001b[49m\u001b[43m)\u001b[49m\n",
      "File \u001b[0;32m~/Documents/Arnob/centralized-baseline/centralized/lib/python3.8/site-packages/torch/autograd/graph.py:769\u001b[0m, in \u001b[0;36m_engine_run_backward\u001b[0;34m(t_outputs, *args, **kwargs)\u001b[0m\n\u001b[1;32m    767\u001b[0m     unregister_hooks \u001b[38;5;241m=\u001b[39m _register_logging_hooks_on_whole_graph(t_outputs)\n\u001b[1;32m    768\u001b[0m \u001b[38;5;28;01mtry\u001b[39;00m:\n\u001b[0;32m--> 769\u001b[0m     \u001b[38;5;28;01mreturn\u001b[39;00m \u001b[43mVariable\u001b[49m\u001b[38;5;241;43m.\u001b[39;49m\u001b[43m_execution_engine\u001b[49m\u001b[38;5;241;43m.\u001b[39;49m\u001b[43mrun_backward\u001b[49m\u001b[43m(\u001b[49m\u001b[43m  \u001b[49m\u001b[38;5;66;43;03m# Calls into the C++ engine to run the backward pass\u001b[39;49;00m\n\u001b[1;32m    770\u001b[0m \u001b[43m        \u001b[49m\u001b[43mt_outputs\u001b[49m\u001b[43m,\u001b[49m\u001b[43m \u001b[49m\u001b[38;5;241;43m*\u001b[39;49m\u001b[43margs\u001b[49m\u001b[43m,\u001b[49m\u001b[43m \u001b[49m\u001b[38;5;241;43m*\u001b[39;49m\u001b[38;5;241;43m*\u001b[39;49m\u001b[43mkwargs\u001b[49m\n\u001b[1;32m    771\u001b[0m \u001b[43m    \u001b[49m\u001b[43m)\u001b[49m  \u001b[38;5;66;03m# Calls into the C++ engine to run the backward pass\u001b[39;00m\n\u001b[1;32m    772\u001b[0m \u001b[38;5;28;01mfinally\u001b[39;00m:\n\u001b[1;32m    773\u001b[0m     \u001b[38;5;28;01mif\u001b[39;00m attach_logging_hooks:\n",
      "\u001b[0;31mKeyboardInterrupt\u001b[0m: "
     ]
    }
   ],
   "source": [
    "train_model(model, train_loader, num_epochs=30, lr=1e-3)"
   ]
  },
  {
   "cell_type": "markdown",
   "metadata": {},
   "source": [
    "### Model Evaluation"
   ]
  },
  {
   "cell_type": "code",
   "execution_count": null,
   "metadata": {},
   "outputs": [
    {
     "name": "stdout",
     "output_type": "stream",
     "text": [
      "Mean Absolute Error (MAE) across horizon: 0.1425\n"
     ]
    }
   ],
   "source": [
    "def evaluate_model(model, test_loader):\n",
    "    model.eval()\n",
    "    mae_list = []\n",
    "    criterion = nn.L1Loss()\n",
    "    \n",
    "    all_predictions = []\n",
    "    all_actuals = []\n",
    "\n",
    "    with torch.no_grad():\n",
    "        for batch_x, batch_y in test_loader:\n",
    "            batch_x, batch_y = batch_x.to(\"cuda\"), batch_y.to(\"cuda\")\n",
    "    \n",
    "            predictions = model(batch_x)\n",
    "            \n",
    "            # Compute MAE for each horizon step\n",
    "            mae = criterion(predictions, batch_y.unsqueeze(-1)).item()\n",
    "            mae_list.append(mae)\n",
    "            \n",
    "            # Move tensors to CPU and convert to numpy for plotting\n",
    "            all_predictions.append(predictions.cpu().numpy())\n",
    "            all_actuals.append(batch_y.cpu().numpy())\n",
    "    \n",
    "    all_predictions = np.concatenate(all_predictions, axis=0)\n",
    "    all_actuals = np.concatenate(all_actuals, axis=0)\n",
    "\n",
    "    return np.mean(mae_list), all_predictions, all_actuals  # Average MAE across batches\n",
    "\n",
    "mae, predictions, actuals = evaluate_model(model, test_loader)\n",
    "print(f\"Mean Absolute Error (MAE) across horizon: {mae:.4f}\")"
   ]
  },
  {
   "cell_type": "markdown",
   "metadata": {},
   "source": [
    "### Plotting Predicton"
   ]
  },
  {
   "cell_type": "code",
   "execution_count": 182,
   "metadata": {},
   "outputs": [
    {
     "data": {
      "text/plain": [
       "array([[[-0.40124717],\n",
       "        [-0.40124717],\n",
       "        [-0.40124717],\n",
       "        ...,\n",
       "        [-0.40124717],\n",
       "        [-0.40124717],\n",
       "        [-0.40124717]],\n",
       "\n",
       "       [[-0.40124717],\n",
       "        [-0.40124717],\n",
       "        [-0.40124717],\n",
       "        ...,\n",
       "        [-0.40124717],\n",
       "        [-0.40124717],\n",
       "        [-0.40124717]],\n",
       "\n",
       "       [[-0.40124717],\n",
       "        [-0.40124717],\n",
       "        [-0.40124717],\n",
       "        ...,\n",
       "        [-0.40124717],\n",
       "        [-0.40124717],\n",
       "        [-0.40124717]],\n",
       "\n",
       "       ...,\n",
       "\n",
       "       [[-0.40124717],\n",
       "        [-0.40124717],\n",
       "        [-0.40124717],\n",
       "        ...,\n",
       "        [-0.40124717],\n",
       "        [-0.40124717],\n",
       "        [-0.40124717]],\n",
       "\n",
       "       [[-0.40124717],\n",
       "        [-0.40124717],\n",
       "        [-0.40124717],\n",
       "        ...,\n",
       "        [-0.40124717],\n",
       "        [-0.40124717],\n",
       "        [-0.40124717]],\n",
       "\n",
       "       [[-0.40124717],\n",
       "        [-0.40124717],\n",
       "        [-0.40124717],\n",
       "        ...,\n",
       "        [-0.40124717],\n",
       "        [-0.40124717],\n",
       "        [-0.40124717]]], dtype=float32)"
      ]
     },
     "execution_count": 182,
     "metadata": {},
     "output_type": "execute_result"
    }
   ],
   "source": [
    "actuals"
   ]
  },
  {
   "cell_type": "code",
   "execution_count": 184,
   "metadata": {},
   "outputs": [
    {
     "data": {
      "text/plain": [
       "array([[-0.46015012],\n",
       "       [-0.44488716],\n",
       "       [-0.42732775],\n",
       "       [-0.41728348],\n",
       "       [-0.40786237],\n",
       "       [-0.40072072],\n",
       "       [-0.39042944],\n",
       "       [-0.38553476],\n",
       "       [-0.3772251 ],\n",
       "       [-0.3735345 ],\n",
       "       [-0.36469644],\n",
       "       [-0.35711628],\n",
       "       [-0.35465264],\n",
       "       [-0.35081536],\n",
       "       [-0.34908932],\n",
       "       [-0.3414815 ]], dtype=float32)"
      ]
     },
     "execution_count": 184,
     "metadata": {},
     "output_type": "execute_result"
    }
   ],
   "source": [
    "predictions[0]"
   ]
  },
  {
   "cell_type": "code",
   "execution_count": 180,
   "metadata": {},
   "outputs": [
    {
     "data": {
      "image/png": "[encoded data removed]",
      "text/plain": [
       "<Figure size 1000x500 with 1 Axes>"
      ]
     },
     "metadata": {},
     "output_type": "display_data"
    }
   ],
   "source": [
    "def plot_predictions(actuals, predictions, sample_idx=0, horizon=16):\n",
    "    plt.figure(figsize=(10, 5))\n",
    "    \n",
    "    actual = actuals[sample_idx]  # Shape (horizon,)\n",
    "    pred = predictions[sample_idx]  # Shape (horizon,)\n",
    "\n",
    "    # Plot actual values\n",
    "    plt.plot(range(len(actual)), actual, label=\"Actual\", marker=\"o\")\n",
    "\n",
    "    # Plot predicted values\n",
    "    plt.plot(range(len(pred)), pred, label=\"Predicted\", marker=\"x\")\n",
    "\n",
    "    plt.xlabel(\"Time Steps\")\n",
    "    plt.ylabel(\"Value\")\n",
    "    plt.title(\"LSTM Forecasting: Actual vs. Predicted\")\n",
    "    plt.legend()\n",
    "    plt.show()\n",
    "\n",
    "# Plot for first sample in test set\n",
    "plot_predictions(actuals, predictions, sample_idx=2, horizon=HORIZON)"
   ]
  }
 ],
 "metadata": {
  "kernelspec": {
   "display_name": "centralized",
   "language": "python",
   "name": "python3"
  },
  "language_info": {
   "codemirror_mode": {
    "name": "ipython",
    "version": 3
   },
   "file_extension": ".py",
   "mimetype": "text/x-python",
   "name": "python",
   "nbconvert_exporter": "python",
   "pygments_lexer": "ipython3",
   "version": "3.8.10"
  }
 },
 "nbformat": 4,
 "nbformat_minor": 2
}
