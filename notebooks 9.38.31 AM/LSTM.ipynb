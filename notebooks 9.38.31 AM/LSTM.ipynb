{
 "cells": [
  {
   "cell_type": "code",
   "execution_count": 834,
   "id": "e3fe64bc",
   "metadata": {},
   "outputs": [],
   "source": [
    "# load csv files in ../processed_ds/air_quality_cluster/site-x/site-x.csv where x is the site number\n",
    "# and concatenate them into a single csv file by adding a column with the site number\n",
    "\n",
    "import os\n",
    "import pandas as pd\n",
    "import numpy as np"
   ]
  },
  {
   "cell_type": "markdown",
   "id": "daecb1dc",
   "metadata": {},
   "source": [
    "#### Concat Sites"
   ]
  },
  {
   "cell_type": "code",
   "execution_count": 821,
   "id": "4d2b5515",
   "metadata": {},
   "outputs": [
    {
     "name": "stdout",
     "output_type": "stream",
     "text": [
      "Total Train Samples: 336612\n",
      "Total Test Samples: 84156\n"
     ]
    }
   ],
   "source": [
    "import os\n",
    "import pandas as pd\n",
    "from sklearn.model_selection import train_test_split\n",
    "\n",
    "# Get the list of directories (sites)\n",
    "files = os.listdir('../processed_ds/air_quality_cluster/')\n",
    "files = [f for f in files if os.path.isdir('../processed_ds/air_quality_cluster/' + f)]\n",
    "files.sort()  # Sort the site directories\n",
    "\n",
    "# Initialize empty lists for train and test data\n",
    "train_dfs = []\n",
    "test_dfs = []\n",
    "\n",
    "# Iterate over the site directories\n",
    "for f in files:\n",
    "    site_files = os.listdir(f'../processed_ds/air_quality_cluster/{f}')\n",
    "    site_files = [sf for sf in site_files if sf.endswith('.csv')]\n",
    "    site_files.sort()\n",
    "\n",
    "    # Process each file in the site\n",
    "    for sf in site_files:\n",
    "        file_path = f'../processed_ds/air_quality_cluster/{f}/{sf}'\n",
    "        df_site = pd.read_csv(file_path)\n",
    "\n",
    "        # Add a site identifier column\n",
    "        df_site['site'] = int(f.split('-')[1])\n",
    "\n",
    "        # Perform 80-20 train-test split on time order\n",
    "        train_size = int(0.8 * len(df_site))\n",
    "        df_train = df_site.iloc[:train_size]  # First 80% as training data\n",
    "        df_test = df_site.iloc[train_size:]  # Remaining 20% as test data\n",
    "\n",
    "        # Append to lists\n",
    "        train_dfs.append(df_train)\n",
    "        test_dfs.append(df_test)\n",
    "\n",
    "# Concatenate all train and test data separately\n",
    "train_df = pd.concat(train_dfs, ignore_index=True)\n",
    "test_df = pd.concat(test_dfs, ignore_index=True)\n",
    "\n",
    "# Save if needed\n",
    "train_df.to_csv('../processed_ds/air_quality_cluster/train_data.csv', index=False)\n",
    "test_df.to_csv('../processed_ds/air_quality_cluster/test_data.csv', index=False)\n",
    "\n",
    "# Print summary\n",
    "print(f\"Total Train Samples: {len(train_df)}\")\n",
    "print(f\"Total Test Samples: {len(test_df)}\")"
   ]
  },
  {
   "cell_type": "code",
   "execution_count": 973,
   "id": "b373ad36",
   "metadata": {},
   "outputs": [],
   "source": [
    "# load the dataframe\n",
    "train_df = pd.read_csv('../processed_ds/air_quality_cluster/train_data.csv')\n",
    "test_df = pd.read_csv('../processed_ds/air_quality_cluster/test_data.csv')\n",
    "\n",
    "# move the site column to the 2nd position\n",
    "# cols = list(df.columns)\n",
    "# cols = cols[:1] + cols[-1:] + cols[1:-1]\n",
    "# df = df[cols]"
   ]
  },
  {
   "cell_type": "code",
   "execution_count": 974,
   "id": "4be99edc",
   "metadata": {},
   "outputs": [],
   "source": [
    "train_df = train_df.drop(columns=['date'])\n",
    "test_df = test_df.drop(columns=['date'])\n"
   ]
  },
  {
   "cell_type": "markdown",
   "id": "4fc8deb7",
   "metadata": {},
   "source": [
    "#### SIMPLE SINE WAVE TEST\n"
   ]
  },
  {
   "cell_type": "code",
   "execution_count": 662,
   "id": "d1722f5a",
   "metadata": {},
   "outputs": [],
   "source": [
    "def generate_sine_data(seq_length=32, horizon=16, num_samples=1000):\n",
    "    x = np.linspace(0, 100, num_samples)  # Create time steps\n",
    "    y = np.sin(x)  # Sine function\n",
    "    X, Y = [], []\n",
    "    for i in range(len(y) - seq_length - horizon + 1):  # Avoid out-of-bounds\n",
    "        X.append(y[i:i + seq_length])  # Input sequence\n",
    "        Y.append(y[i + seq_length:i + seq_length + horizon])  # Predict next 16 steps\n",
    "\n",
    "    return np.array(X), np.array(Y), y\n",
    "\n",
    "SEQ_LEN = 32  # Input window length\n",
    "HORIZON = 16  # Predict one step ahead\n",
    "\n",
    "X, y, oop = generate_sine_data(seq_length=SEQ_LEN)"
   ]
  },
  {
   "cell_type": "markdown",
   "id": "0b62c2b1",
   "metadata": {},
   "source": [
    "#### Real Data"
   ]
  },
  {
   "cell_type": "code",
   "execution_count": 975,
   "id": "6137c86c",
   "metadata": {},
   "outputs": [],
   "source": [
    "train_df = (train_df - train_df.mean()) / (train_df.std() + 1e-8)\n",
    "test_df = (test_df - test_df.mean()) / (test_df.std() + 1e-8)\n",
    "# from sklearn.preprocessing import MinMaxScaler\n",
    "\n",
    "# scaler = MinMaxScaler()\n",
    "# df = scaler.fit_transform(df)\n",
    "\n",
    "# df = pd.DataFrame(df)"
   ]
  },
  {
   "cell_type": "markdown",
   "id": "8390eeca",
   "metadata": {},
   "source": [
    "#### Site wise processing"
   ]
  },
  {
   "cell_type": "code",
   "execution_count": 932,
   "id": "a0bcc638",
   "metadata": {},
   "outputs": [],
   "source": [
    "df = pd.read_csv(\"../processed_ds/air_quality_cluster/site-6/site-6.csv\")\n",
    "df.drop(columns=['date'], inplace = True)\n",
    "# Perform an 80-20 split based on time\n",
    "train_size = int(0.8 * len(df))\n",
    "\n",
    "train_df = df.iloc[:train_size]  # First 80% for training\n",
    "test_df = df.iloc[train_size:]   # Last 20% for testing (future data)"
   ]
  },
  {
   "cell_type": "code",
   "execution_count": 933,
   "id": "5241d6a3",
   "metadata": {},
   "outputs": [],
   "source": [
    "train_df = (train_df - train_df.mean()) / (train_df.std() + 1e-8)\n",
    "test_df = (test_df - test_df.mean()) / (test_df.std() + 1e-8)"
   ]
  },
  {
   "cell_type": "markdown",
   "id": "0c3dff77",
   "metadata": {},
   "source": [
    "#### Model Setup"
   ]
  },
  {
   "cell_type": "code",
   "execution_count": 976,
   "id": "4b2cca63",
   "metadata": {},
   "outputs": [],
   "source": [
    "def df_to_X_y(df, target_col=10, window_size=32, horizon=2):\n",
    "    df_as_np = df.to_numpy()\n",
    "    X, y = [], []\n",
    "\n",
    "    for i in range(len(df_as_np) - window_size - horizon + 1):  # Adjust to avoid out-of-bounds\n",
    "        # Select past 'window_size' rows as features\n",
    "        X.append(df_as_np[i:i + window_size])\n",
    "\n",
    "        # Select the next 'horizon' future values for target column\n",
    "        y.append(df_as_np[i + window_size:i + window_size + horizon, target_col])  \n",
    "\n",
    "    return np.array(X), np.array(y)"
   ]
  },
  {
   "cell_type": "code",
   "execution_count": 977,
   "id": "df6bac3d",
   "metadata": {},
   "outputs": [],
   "source": [
    "# Process Train Data\n",
    "X_train, y_train = df_to_X_y(train_df, target_col=9)  # Use correct target column\n",
    "\n",
    "# Process Test Data\n",
    "X_test, y_test = df_to_X_y(test_df, target_col=9)  # Same column index"
   ]
  },
  {
   "cell_type": "code",
   "execution_count": 978,
   "id": "ee443e7a",
   "metadata": {},
   "outputs": [
    {
     "data": {
      "text/plain": [
       "(336579, 32, 12)"
      ]
     },
     "execution_count": 978,
     "metadata": {},
     "output_type": "execute_result"
    }
   ],
   "source": [
    "X_train.shape"
   ]
  },
  {
   "cell_type": "code",
   "execution_count": 979,
   "id": "75ec9c44",
   "metadata": {},
   "outputs": [
    {
     "data": {
      "text/plain": [
       "(336579, 2)"
      ]
     },
     "execution_count": 979,
     "metadata": {},
     "output_type": "execute_result"
    }
   ],
   "source": [
    "y_train.shape"
   ]
  },
  {
   "cell_type": "code",
   "execution_count": 982,
   "id": "b363e87c",
   "metadata": {},
   "outputs": [],
   "source": [
    "# pytorch LSTM MODEL with 2 lstm layers two linear layers, 30 epochs, 0.01 learning rate, output window size 16, hidden layer size 16\n",
    "# self.fc1 = nn.Linear(hidden_size * time_window, num_features * time_window)\n",
    "        # self.fc2 = nn.Linear(num_features * time_window, num_labels * output_window)\n",
    "import torch\n",
    "import torch.nn as nn\n",
    "import torch.optim as optim\n",
    "from torch.utils.data import DataLoader, TensorDataset\n",
    "\n",
    "\n",
    "class LSTMForecaster(nn.Module):\n",
    "    def __init__(self, input_dim, hidden_dim, num_layers, output_dim, dropout=0.2):\n",
    "        super(LSTMForecaster, self).__init__()\n",
    "        self.hidden_dim = hidden_dim\n",
    "        self.num_layers = num_layers\n",
    "        \n",
    "        self.lstm = nn.LSTM(input_dim, hidden_dim, num_layers, batch_first=True, dropout=dropout)\n",
    "        self.fc = nn.Linear(hidden_dim, output_dim)  # Predict 'horizon' steps\n",
    "        \n",
    "    def forward(self, x):\n",
    "        lstm_out, _ = self.lstm(x)  # (batch, seq_length, hidden_dim)\n",
    "        last_hidden = lstm_out[:, -1, :]  # Take last time step's hidden state\n",
    "        return self.fc(last_hidden.reshape(16, -1))  # Output (batch, horizon)\n",
    "\n",
    "class LSTMModel(nn.Module):\n",
    "    def __init__(self,\n",
    "                 num_tasks,\n",
    "                 num_features,\n",
    "                 time_window,\n",
    "                 output_window,\n",
    "                 num_labels,\n",
    "                 num_layers=2,\n",
    "                 hidden_size=16):\n",
    "        super(LSTMModel, self).__init__()\n",
    "\n",
    "        self.output_window = output_window\n",
    "        self.num_labels = num_labels\n",
    "        self.dual = False\n",
    "\n",
    "        self.intermediary = False\n",
    "\n",
    "        self.lstm = nn.LSTM(num_features,\n",
    "                            hidden_size,\n",
    "                            num_layers=num_layers,\n",
    "                            batch_first=True,\n",
    "                            dropout=0.2)\n",
    "        self.fc = nn.Linear(hidden_size, num_labels * output_window)\n",
    "        # self.fc1 = nn.Linear(hidden_size * time_window, num_features * time_window)\n",
    "        # self.fc2 = nn.Linear(num_features * time_window, num_labels * output_window)\n",
    "\n",
    "    def forward(self, x):\n",
    "        B, T, D = x.shape  # Fix: Remove x[0], should be x\n",
    "        # h0 = torch.zeros(2, B, 16).to(x.device)\n",
    "        # c0 = torch.zeros(2, B, 16).to(x.device)\n",
    "        # x_, _ = self.lstm(x)\n",
    "        # x_ = self.fc1(x_.reshape(B, -1))\n",
    "        # x_ = self.fc2(x_)\n",
    "        # x_ = x_.reshape(B, self.output_window, self.num_labels)\n",
    "        x_, _ = self.lstm(x)\n",
    "        # Select the last time step's hidden state (most recent information)\n",
    "        last_hidden = x_[:, -1, :]  # Shape: (B, hidden_size)\n",
    "\n",
    "        # Fully connected layer\n",
    "        x_ = self.fc(last_hidden)  # Shape: (B, num_labels * output_window)\n",
    "\n",
    "        # Reshape to (B, output_window, num_labels)\n",
    "        x_ = x_.reshape(B, self.output_window, self.num_labels)\n",
    "        return x_\n",
    "\n"
   ]
  },
  {
   "cell_type": "code",
   "execution_count": 988,
   "id": "7a79e4b2",
   "metadata": {},
   "outputs": [
    {
     "data": {
      "text/plain": [
       "LSTMForecaster(\n",
       "  (lstm): LSTM(12, 16, num_layers=2, batch_first=True, dropout=0.2)\n",
       "  (fc): Linear(in_features=16, out_features=16, bias=True)\n",
       ")"
      ]
     },
     "execution_count": 988,
     "metadata": {},
     "output_type": "execute_result"
    }
   ],
   "source": [
    "# Hyperparameters\n",
    "SEQ_LEN = 32  # Input window length\n",
    "HORIZON = 2  # Prediction horizon\n",
    "NUM_FEATURES = 12 # Input features (e.g., PM2.5, NO2)\n",
    "NUM_LABELS = 1  # Predict same number of labels\n",
    "\n",
    "# Instantiate model\n",
    "model = LSTMModel(\n",
    "    num_tasks=1,  # Only 1 task\n",
    "    num_features=NUM_FEATURES,\n",
    "    time_window=SEQ_LEN,\n",
    "    output_window=HORIZON,\n",
    "    num_labels=NUM_LABELS,\n",
    "    num_layers=2,\n",
    "    hidden_size=16 # Increased hidden size\n",
    ")\n",
    "model.to(\"cuda\")\n",
    "\n",
    "model2 = LSTMForecaster(\n",
    "    input_dim = NUM_FEATURES,  # Number of features\n",
    "    hidden_dim = 16,\n",
    "    num_layers = 2,\n",
    "    output_dim = 16,  # Forecast 16 steps aheah\n",
    ")\n",
    "model2.to(\"cuda\")"
   ]
  },
  {
   "cell_type": "code",
   "execution_count": 989,
   "id": "d4b30811",
   "metadata": {},
   "outputs": [],
   "source": [
    "def train_model(model, train_loader, num_epochs=20, lr=0.01):\n",
    "    criterion = nn.MSELoss()\n",
    "    optimizer = optim.Adam(model.parameters(), lr=lr)\n",
    "    device = \"cuda\"\n",
    "\n",
    "    for epoch in range(num_epochs):\n",
    "        print(\"EPOCH: \", epoch)\n",
    "        model.train(True)\n",
    "        running_loss = 0.0\n",
    "        \n",
    "        for batch_index, batch in enumerate(train_loader):\n",
    "            x_batch, y_batch = batch[0].to(device), batch[1].to(device)\n",
    "\n",
    "            output = model(x_batch)\n",
    "            y_batch = y_batch.unsqueeze(-1)\n",
    "            loss = criterion(output, y_batch)\n",
    "            running_loss += loss.item()\n",
    "\n",
    "            optimizer.zero_grad()\n",
    "            loss.backward()\n",
    "            optimizer.step()\n",
    "\n",
    "        print(f\"Epoch {epoch+1}, Loss: {running_loss / len(train_loader):.4f}\")"
   ]
  },
  {
   "cell_type": "code",
   "execution_count": 990,
   "id": "2328d18d",
   "metadata": {},
   "outputs": [],
   "source": [
    "# Convert to PyTorch tensors\n",
    "train_data = TensorDataset(torch.from_numpy(X_train).float(), torch.from_numpy(y_train).float())\n",
    "test_data = TensorDataset(torch.from_numpy(X_test).float(), torch.from_numpy(y_test).float())\n",
    "\n",
    "# Create DataLoaders\n",
    "batch_size = 16\n",
    "train_loader = DataLoader(train_data, shuffle=True, batch_size=batch_size, drop_last=True)\n",
    "test_loader = DataLoader(test_data, shuffle=False, batch_size=batch_size, drop_last=True)\n"
   ]
  },
  {
   "cell_type": "code",
   "execution_count": 991,
   "id": "3fad6b75",
   "metadata": {},
   "outputs": [
    {
     "name": "stdout",
     "output_type": "stream",
     "text": [
      "torch.Size([16, 32, 12]) torch.Size([16, 2])\n"
     ]
    }
   ],
   "source": [
    "for _, batch in enumerate(train_loader):\n",
    "    x_batch, y_batch = batch[0].to('cpu'), batch[1].to('cpu')\n",
    "    print(x_batch.shape, y_batch.shape)\n",
    "    break"
   ]
  },
  {
   "cell_type": "code",
   "execution_count": 992,
   "id": "b45ffb25",
   "metadata": {},
   "outputs": [
    {
     "name": "stdout",
     "output_type": "stream",
     "text": [
      "EPOCH:  0\n",
      "Epoch 1, Loss: 0.4152\n",
      "EPOCH:  1\n",
      "Epoch 2, Loss: 0.3941\n",
      "EPOCH:  2\n",
      "Epoch 3, Loss: 0.3892\n",
      "EPOCH:  3\n",
      "Epoch 4, Loss: 0.3858\n",
      "EPOCH:  4\n",
      "Epoch 5, Loss: 0.3830\n",
      "EPOCH:  5\n",
      "Epoch 6, Loss: 0.3808\n",
      "EPOCH:  6\n",
      "Epoch 7, Loss: 0.3790\n",
      "EPOCH:  7\n",
      "Epoch 8, Loss: 0.3772\n",
      "EPOCH:  8\n",
      "Epoch 9, Loss: 0.3752\n",
      "EPOCH:  9\n",
      "Epoch 10, Loss: 0.3735\n",
      "EPOCH:  10\n",
      "Epoch 11, Loss: 0.3722\n",
      "EPOCH:  11\n",
      "Epoch 12, Loss: 0.3714\n",
      "EPOCH:  12\n",
      "Epoch 13, Loss: 0.3703\n",
      "EPOCH:  13\n",
      "Epoch 14, Loss: 0.3690\n",
      "EPOCH:  14\n",
      "Epoch 15, Loss: 0.3684\n",
      "EPOCH:  15\n",
      "Epoch 16, Loss: 0.3673\n",
      "EPOCH:  16\n",
      "Epoch 17, Loss: 0.3670\n",
      "EPOCH:  17\n",
      "Epoch 18, Loss: 0.3662\n",
      "EPOCH:  18\n",
      "Epoch 19, Loss: 0.3655\n",
      "EPOCH:  19\n",
      "Epoch 20, Loss: 0.3656\n",
      "EPOCH:  20\n",
      "Epoch 21, Loss: 0.3647\n",
      "EPOCH:  21\n",
      "Epoch 22, Loss: 0.3645\n",
      "EPOCH:  22\n",
      "Epoch 23, Loss: 0.3635\n",
      "EPOCH:  23\n",
      "Epoch 24, Loss: 0.3628\n",
      "EPOCH:  24\n",
      "Epoch 25, Loss: 0.3633\n",
      "EPOCH:  25\n",
      "Epoch 26, Loss: 0.3622\n",
      "EPOCH:  26\n",
      "Epoch 27, Loss: 0.3624\n",
      "EPOCH:  27\n",
      "Epoch 28, Loss: 0.3618\n",
      "EPOCH:  28\n",
      "Epoch 29, Loss: 0.3615\n",
      "EPOCH:  29\n",
      "Epoch 30, Loss: 0.3611\n"
     ]
    }
   ],
   "source": [
    "train_model(model, train_loader, num_epochs=30, lr=1e-3)"
   ]
  },
  {
   "cell_type": "code",
   "execution_count": 993,
   "id": "b64dc8db",
   "metadata": {},
   "outputs": [
    {
     "name": "stdout",
     "output_type": "stream",
     "text": [
      "Mean Absolute Error (MAE) across horizon: 0.4594\n"
     ]
    }
   ],
   "source": [
    "def evaluate_model(model, test_loader):\n",
    "    model.eval()\n",
    "    mae_list = []\n",
    "    criterion = nn.L1Loss()\n",
    "    \n",
    "    all_predictions = []\n",
    "    all_actuals = []\n",
    "\n",
    "    with torch.no_grad():\n",
    "        for batch_x, batch_y in test_loader:\n",
    "            batch_x, batch_y = batch_x.to(\"cuda\"), batch_y.to(\"cuda\")\n",
    "    \n",
    "            predictions = model(batch_x)\n",
    "          \n",
    "            # Compute MAE for each horizon step\n",
    "            mae = criterion(predictions, batch_y.unsqueeze(-1)).item()\n",
    "            mae_list.append(mae)\n",
    "            \n",
    "            # Move tensors to CPU and convert to numpy for plotting\n",
    "            all_predictions.append(predictions.cpu().numpy())\n",
    "            all_actuals.append(batch_y.cpu().numpy())\n",
    "    \n",
    "    all_predictions = np.concatenate(all_predictions, axis=0)\n",
    "    all_actuals = np.concatenate(all_actuals, axis=0)\n",
    "\n",
    "    return np.mean(mae_list), all_predictions, all_actuals  # Average MAE across batches\n",
    "\n",
    "mae, predictions, actuals = evaluate_model(model, test_loader)\n",
    "print(f\"Mean Absolute Error (MAE) across horizon: {mae:.4f}\")"
   ]
  },
  {
   "cell_type": "code",
   "execution_count": 996,
   "id": "aa021258",
   "metadata": {},
   "outputs": [
    {
     "data": {
      "image/png": "[encoded data removed]",
      "text/plain": [
       "<Figure size 1000x500 with 1 Axes>"
      ]
     },
     "metadata": {},
     "output_type": "display_data"
    }
   ],
   "source": [
    "def plot_predictions(actuals, predictions, sample_idx=0, horizon=16):\n",
    "    plt.figure(figsize=(10, 5))\n",
    "    \n",
    "    actual = actuals[sample_idx]  # Shape (horizon,)\n",
    "    pred = predictions[sample_idx]  # Shape (horizon,)\n",
    "\n",
    "    # Plot actual values\n",
    "    plt.plot(range(len(actual)), actual, label=\"Actual\", marker=\"o\")\n",
    "\n",
    "    # Plot predicted values\n",
    "    plt.plot(range(len(pred)), pred, label=\"Predicted\", marker=\"x\")\n",
    "\n",
    "    plt.xlabel(\"Time Steps\")\n",
    "    plt.ylabel(\"Value\")\n",
    "    plt.title(\"LSTM Forecasting: Actual vs. Predicted (Site-4)\")\n",
    "    plt.legend()\n",
    "    plt.show()\n",
    "\n",
    "# Plot for first sample in test set\n",
    "plot_predictions(actuals, predictions, sample_idx=1, horizon=HORIZON)"
   ]
  },
  {
   "cell_type": "code",
   "execution_count": 583,
   "id": "402cbfd5",
   "metadata": {},
   "outputs": [
    {
     "data": {
      "text/plain": [
       "(176, 1)"
      ]
     },
     "execution_count": 583,
     "metadata": {},
     "output_type": "execute_result"
    }
   ],
   "source": [
    "predictions.shape"
   ]
  },
  {
   "cell_type": "code",
   "execution_count": 584,
   "id": "7bd30a22",
   "metadata": {},
   "outputs": [
    {
     "data": {
      "text/plain": [
       "(176, 16, 1)"
      ]
     },
     "execution_count": 584,
     "metadata": {},
     "output_type": "execute_result"
    }
   ],
   "source": [
    "actuals.shape"
   ]
  },
  {
   "cell_type": "code",
   "execution_count": null,
   "id": "e58aee0a",
   "metadata": {},
   "outputs": [],
   "source": [
    "# Data Preprocessing\n"
   ]
  },
  {
   "cell_type": "code",
   "execution_count": null,
   "id": "94078096",
   "metadata": {},
   "outputs": [],
   "source": []
  }
 ],
 "metadata": {
  "kernelspec": {
   "display_name": "centralized",
   "language": "python",
   "name": "python3"
  },
  "language_info": {
   "codemirror_mode": {
    "name": "ipython",
    "version": 3
   },
   "file_extension": ".py",
   "mimetype": "text/x-python",
   "name": "python",
   "nbconvert_exporter": "python",
   "pygments_lexer": "ipython3",
   "version": "3.8.10"
  }
 },
 "nbformat": 4,
 "nbformat_minor": 5
}
